{
 "cells": [
  {
   "cell_type": "code",
   "execution_count": null,
   "metadata": {},
   "outputs": [],
   "source": [
    "import pandas as pd\n",
    "import numpy as np\n",
    "import matplotlib.pyplot as plt\n",
    "import seaborn as sns\n",
    "from sklearn.model_selection import train_test_split\n",
    "from sklearn.ensemble import RandomForestClassifier\n",
    "from sklearn.metrics import classification_report, confusion_matrix\n",
    "from sklearn.preprocessing import StandardScaler\n",
    "from sklearn.decomposition import PCA"
   ]
  },
  {
   "cell_type": "code",
   "execution_count": null,
   "metadata": {},
   "outputs": [],
   "source": [
    "# Load the CSV data\n",
    "train_data = pd.read_csv('/kaggle/input/child-mind-institute-problematic-internet-use/train.csv')\n",
    "test_data = pd.read_csv('/kaggle/input/child-mind-institute-problematic-internet-use/test.csv')\n",
    "train_data.head()"
   ]
  },
  {
   "cell_type": "code",
   "execution_count": null,
   "metadata": {},
   "outputs": [],
   "source": [
    "# Get Statistical details\n",
    "train_data.describe().transpose()"
   ]
  },
  {
   "cell_type": "code",
   "execution_count": null,
   "metadata": {},
   "outputs": [],
   "source": [
    "train_data.info()"
   ]
  },
  {
   "cell_type": "code",
   "execution_count": null,
   "metadata": {},
   "outputs": [],
   "source": [
    "# Distribution of Label Data\n",
    "train_data['sii'].value_counts()"
   ]
  },
  {
   "cell_type": "code",
   "execution_count": null,
   "metadata": {},
   "outputs": [],
   "source": [
    "# Selecting columns with more than 50% non-null values and filling missing values\n",
    "threshold = 0.5 * len(train_data)\n",
    "columns_with_data = train_data.columns[train_data.isnull().sum() < threshold]\n",
    "train_data = train_data[columns_with_data]\n",
    "# Replace all missing values with 0\n",
    "train_data = train_data.fillna(0)"
   ]
  },
  {
   "cell_type": "code",
   "execution_count": null,
   "metadata": {},
   "outputs": [],
   "source": [
    "# Define the target column\n",
    "target_column = 'sii'\n",
    "# Remove rows where the target column 'sii' is NaN\n",
    "train_data_cleaned = train_data.dropna(subset=[target_column])\n",
    "# Check the results\n",
    "train_data_cleaned.head()\n",
    "train_data_cleaned.info()"
   ]
  },
  {
   "cell_type": "code",
   "execution_count": null,
   "metadata": {},
   "outputs": [],
   "source": [
    "# Categorical columns in the dataset\n",
    "categorical_columns = ['Basic_Demos-Enroll_Season', 'CGAS-Season', 'Physical-Season', \n",
    "                       'FGC-Season', 'BIA-Season', 'PCIAT-Season', 'SDS-Season', 'PreInt_EduHx-Season']\n",
    "# Plotting boxplots for 'sii' against each categorical column\n",
    "plt.figure(figsize=(16, 24))\n",
    "for i, col in enumerate(categorical_columns, 1):\n",
    "    plt.subplot(4, 2, i)  # 4 rows, 2 columns, plot i\n",
    "    sns.boxplot(x=col, y='sii', data=train_data_cleaned)\n",
    "    plt.xticks(rotation=45)\n",
    "    plt.title(f\"'sii' vs {col}\")\n",
    "plt.tight_layout()\n",
    "plt.show()"
   ]
  },
  {
   "cell_type": "code",
   "execution_count": null,
   "metadata": {},
   "outputs": [],
   "source": [
    "# Plot target column 'sii' with numerical columns\n",
    "numerical_cols = train_data_cleaned.select_dtypes(include=['float64', 'int64']).columns\n",
    "# Set the number of plots per row\n",
    "plots_per_row = 5\n",
    "n_rows = (len(numerical_cols) + plots_per_row - 1) // plots_per_row\n",
    "plt.figure(figsize=(20, 4 * n_rows))\n",
    "for i, col in enumerate(numerical_cols):\n",
    "    plt.subplot(n_rows, plots_per_row, i + 1)\n",
    "    sns.boxplot(x='sii', y=col, data=train_data_cleaned)\n",
    "    plt.title(col)\n",
    "    plt.tight_layout()\n",
    "plt.show()"
   ]
  },
  {
   "cell_type": "code",
   "execution_count": null,
   "metadata": {},
   "outputs": [],
   "source": [
    "# Identify categorical columns for seasons\n",
    "season_cols = [\n",
    "    'Basic_Demos-Enroll_Season', \n",
    "    'CGAS-Season', \n",
    "    'Physical-Season', \n",
    "    'FGC-Season', \n",
    "    'BIA-Season', \n",
    "    'PCIAT-Season', \n",
    "    'SDS-Season', \n",
    "    'PreInt_EduHx-Season'\n",
    "]\n",
    "# Create a mapping dictionary for seasons\n",
    "season_mapping = {\n",
    "    'Spring': 0,\n",
    "    'Summer': 1,\n",
    "    'Fall': 2,\n",
    "    'Winter': 3\n",
    "}\n",
    "# Apply manual encoding to the categorical columns\n",
    "for col in season_cols:\n",
    "    if col in train_data_cleaned.columns:\n",
    "        train_data_cleaned[col] = train_data_cleaned[col].replace(season_mapping)"
   ]
  },
  {
   "cell_type": "code",
   "execution_count": null,
   "metadata": {},
   "outputs": [],
   "source": [
    "# Drop the 'id' column if present\n",
    "train_data_no_id = train_data_cleaned.drop(columns=['id'], errors='ignore')\n",
    "# Calculate the correlation matrix\n",
    "correlation_matrix = train_data_no_id.corr()\n",
    "# Plot the heatmap\n",
    "plt.figure(figsize=(30, 30))\n",
    "sns.heatmap(correlation_matrix, annot=True, fmt='.1f', cmap='coolwarm', square=True)\n",
    "plt.title('Correlation Heatmap')\n",
    "plt.show()"
   ]
  }
 ],
 "metadata": {
  "language_info": {
   "name": "python"
  }
 },
 "nbformat": 4,
 "nbformat_minor": 2
}
